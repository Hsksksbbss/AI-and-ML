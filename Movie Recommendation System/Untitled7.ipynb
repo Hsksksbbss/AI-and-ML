{
 "cells": [
  {
   "cell_type": "markdown",
   "id": "345f297c-833a-4ca4-a894-643a0f8723bf",
   "metadata": {},
   "source": [
    "# Import Required Libraries"
   ]
  },
  {
   "cell_type": "code",
   "execution_count": 33,
   "id": "2f5ce0ae-9c88-4b3d-87d1-15ed06d2aa59",
   "metadata": {},
   "outputs": [],
   "source": [
    "import pandas as pd\n",
    "from sklearn.metrics.pairwise import cosine_similarity\n",
    "import numpy as np\n",
    "import streamlit as st\n"
   ]
  },
  {
   "cell_type": "markdown",
   "id": "8e02d89e-8b0e-4f53-97d2-0650f90714be",
   "metadata": {},
   "source": [
    "# Load dataset"
   ]
  },
  {
   "cell_type": "code",
   "execution_count": 2,
   "id": "9a1087f0-cb90-4180-8f37-652fd9f647f2",
   "metadata": {},
   "outputs": [
    {
     "name": "stdout",
     "output_type": "stream",
     "text": [
      "   user_id      movie  rating\n",
      "0        1    Titanic       5\n",
      "1        1   Avengers       4\n",
      "2        1  Inception       4\n",
      "3        2    Titanic       5\n",
      "4        2  Inception       3\n"
     ]
    }
   ],
   "source": [
    "df = pd.read_csv(\"D:/downloads 2/movie_ratings_expanded.csv\")\n",
    "print(df.head())\n"
   ]
  },
  {
   "cell_type": "markdown",
   "id": "1c3bbc41-7c17-4baa-956d-aefd5087245a",
   "metadata": {},
   "source": [
    "# Create User-Item Matrix"
   ]
  },
  {
   "cell_type": "code",
   "execution_count": 20,
   "id": "01db6305-2f1b-4b79-8ced-280c1040d118",
   "metadata": {},
   "outputs": [],
   "source": [
    "user_movie_matrix = df.pivot_table(index='user_id', columns='movie', values='rating').fillna(0)"
   ]
  },
  {
   "cell_type": "markdown",
   "id": "5428e38f-4e7b-40e1-93de-2b5d9d324c1e",
   "metadata": {},
   "source": [
    "# Calculate Cosine Similarity "
   ]
  },
  {
   "cell_type": "code",
   "execution_count": 21,
   "id": "965b741a-64bb-48af-aa1d-ec938fa0b140",
   "metadata": {},
   "outputs": [],
   "source": [
    "user_similarity = cosine_similarity(user_movie_matrix)\n",
    "user_similarity_df = pd.DataFrame(user_similarity, index=user_movie_matrix.index, columns=user_movie_matrix.index)\n"
   ]
  },
  {
   "cell_type": "markdown",
   "id": "7c60ae3d-2844-4ca9-828f-3f35d759fe49",
   "metadata": {},
   "source": [
    "#  Recommendation Function"
   ]
  },
  {
   "cell_type": "code",
   "execution_count": 35,
   "id": "b8ca3c1e-9469-47a5-be35-4c38c1cce46a",
   "metadata": {},
   "outputs": [],
   "source": [
    "def get_item_based_recommendations(user_id, n=5):\n",
    "    if user_id not in user_movie_matrix.index:\n",
    "        return \"User not found.\"\n",
    "    \n",
    "    user_ratings = user_movie_matrix.loc[user_id]\n",
    "    rated_movies = user_ratings[user_ratings > 0].index.tolist()\n",
    "\n",
    "    scores = pd.Series(dtype='float64')\n",
    "    \n",
    "    for movie in rated_movies:\n",
    "        similar_scores = item_similarity_df[movie] * user_ratings[movie]\n",
    "        scores = scores.add(similar_scores, fill_value=0)\n",
    "    \n",
    "    scores = scores.drop(rated_movies, errors='ignore')  # Remove already rated\n",
    "    return scores.sort_values(ascending=False).head(n)"
   ]
  },
  {
   "cell_type": "markdown",
   "id": "7929efb4-a1ee-47a9-993f-91c2fb545330",
   "metadata": {},
   "source": [
    "#  Test the Recommender"
   ]
  },
  {
   "cell_type": "code",
   "execution_count": 36,
   "id": "23b8f738-dc8d-478b-a884-6845748d8d7c",
   "metadata": {},
   "outputs": [
    {
     "ename": "NameError",
     "evalue": "name 'item_similarity_df' is not defined",
     "output_type": "error",
     "traceback": [
      "\u001b[31m---------------------------------------------------------------------------\u001b[39m",
      "\u001b[31mNameError\u001b[39m                                 Traceback (most recent call last)",
      "\u001b[36mCell\u001b[39m\u001b[36m \u001b[39m\u001b[32mIn[36]\u001b[39m\u001b[32m, line 1\u001b[39m\n\u001b[32m----> \u001b[39m\u001b[32m1\u001b[39m recommendations = \u001b[43mget_item_based_recommendations\u001b[49m\u001b[43m(\u001b[49m\u001b[43muser_id\u001b[49m\u001b[43m=\u001b[49m\u001b[32;43m1\u001b[39;49m\u001b[43m)\u001b[49m\n\u001b[32m      2\u001b[39m \u001b[38;5;28mprint\u001b[39m(\u001b[33m\"\u001b[39m\u001b[33mItem-based recommendations for user 1:\u001b[39m\u001b[33m\"\u001b[39m)\n\u001b[32m      3\u001b[39m \u001b[38;5;28mprint\u001b[39m(recommendations)\n",
      "\u001b[36mCell\u001b[39m\u001b[36m \u001b[39m\u001b[32mIn[35]\u001b[39m\u001b[32m, line 11\u001b[39m, in \u001b[36mget_item_based_recommendations\u001b[39m\u001b[34m(user_id, n)\u001b[39m\n\u001b[32m      8\u001b[39m scores = pd.Series(dtype=\u001b[33m'\u001b[39m\u001b[33mfloat64\u001b[39m\u001b[33m'\u001b[39m)\n\u001b[32m     10\u001b[39m \u001b[38;5;28;01mfor\u001b[39;00m movie \u001b[38;5;129;01min\u001b[39;00m rated_movies:\n\u001b[32m---> \u001b[39m\u001b[32m11\u001b[39m     similar_scores = \u001b[43mitem_similarity_df\u001b[49m[movie] * user_ratings[movie]\n\u001b[32m     12\u001b[39m     scores = scores.add(similar_scores, fill_value=\u001b[32m0\u001b[39m)\n\u001b[32m     14\u001b[39m scores = scores.drop(rated_movies, errors=\u001b[33m'\u001b[39m\u001b[33mignore\u001b[39m\u001b[33m'\u001b[39m)  \u001b[38;5;66;03m# Remove already rated\u001b[39;00m\n",
      "\u001b[31mNameError\u001b[39m: name 'item_similarity_df' is not defined"
     ]
    }
   ],
   "source": [
    "recommendations = get_item_based_recommendations(user_id=1)\n",
    "print(\"Item-based recommendations for user 1:\")\n",
    "print(recommendations)"
   ]
  },
  {
   "cell_type": "code",
   "execution_count": null,
   "id": "109b188f-d9d3-48e2-824d-027aa693bc8a",
   "metadata": {},
   "outputs": [],
   "source": []
  }
 ],
 "metadata": {
  "kernelspec": {
   "display_name": "Python [conda env:jupyter2] *",
   "language": "python",
   "name": "conda-env-jupyter2-py"
  },
  "language_info": {
   "codemirror_mode": {
    "name": "ipython",
    "version": 3
   },
   "file_extension": ".py",
   "mimetype": "text/x-python",
   "name": "python",
   "nbconvert_exporter": "python",
   "pygments_lexer": "ipython3",
   "version": "3.12.7"
  }
 },
 "nbformat": 4,
 "nbformat_minor": 5
}
