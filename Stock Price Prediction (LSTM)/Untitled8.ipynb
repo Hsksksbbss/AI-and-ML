{
 "cells": [
  {
   "cell_type": "code",
   "execution_count": 1,
   "id": "d341f47b-b705-471d-8e48-bc4a42349ae9",
   "metadata": {},
   "outputs": [],
   "source": [
    "import numpy as np\n",
    "import pandas as pd\n",
    "import matplotlib.pyplot as plt\n",
    "from sklearn.preprocessing import MinMaxScaler\n",
    "from tensorflow.keras.models import Sequential\n",
    "from tensorflow.keras.layers import LSTM, Dense"
   ]
  },
  {
   "cell_type": "markdown",
   "id": "9e0d2ffd-43f3-43e5-9347-04fded089b4d",
   "metadata": {},
   "source": [
    "# Load your dataset"
   ]
  },
  {
   "cell_type": "code",
   "execution_count": 10,
   "id": "23b11ddd-e657-4377-a791-96679ed2f8bf",
   "metadata": {},
   "outputs": [],
   "source": [
    "df = pd.read_csv(\"D:/downloads 2/infy_stock_data.csv\")\n"
   ]
  },
  {
   "cell_type": "code",
   "execution_count": 12,
   "id": "f26ebe34-8cde-467c-8500-723deeb18ffb",
   "metadata": {},
   "outputs": [
    {
     "name": "stdout",
     "output_type": "stream",
     "text": [
      "         Date         Open         High         Low        Close    Adj Close  \\\n",
      "0  2015-01-31  1417.847375  1611.485291  973.604114  1564.693883  1192.861771   \n",
      "1  2015-02-28  1358.353370  1683.941044  964.822996  1462.526663  1482.572792   \n",
      "2  2015-03-31  1297.934273  1604.314537  998.136516  1518.526587  1298.534620   \n",
      "3  2015-04-30  1246.504469  1618.764056  951.063804  1102.052563  1409.759494   \n",
      "4  2015-05-31  1527.945071  1604.600285  998.267952  1282.772678  1312.028297   \n",
      "\n",
      "    Volume  \n",
      "0  4203137  \n",
      "1  3675200  \n",
      "2  1778254  \n",
      "3  2195838  \n",
      "4  4250801  \n"
     ]
    }
   ],
   "source": [
    "print(df)"
   ]
  },
  {
   "cell_type": "code",
   "execution_count": 27,
   "id": "51697245-3f26-4bbd-9fdf-76e6367945df",
   "metadata": {},
   "outputs": [],
   "source": [
    "df = df[['Close']]  # Use only 'Close' prices\n",
    "df = df.dropna()\n"
   ]
  },
  {
   "cell_type": "markdown",
   "id": "350ee77a-78d3-4fd7-97da-374f0139ca6b",
   "metadata": {},
   "source": [
    "# Normalize the data"
   ]
  },
  {
   "cell_type": "code",
   "execution_count": 28,
   "id": "12afceb3-3b33-4151-939a-adf17a43a90b",
   "metadata": {},
   "outputs": [],
   "source": [
    "scaler = MinMaxScaler(feature_range=(0, 1))\n",
    "scaled_data = scaler.fit_transform(df)\n"
   ]
  },
  {
   "cell_type": "markdown",
   "id": "cca198aa-0db8-429f-ad0a-da8af94e7a64",
   "metadata": {},
   "source": [
    "# Create time-series sequences"
   ]
  },
  {
   "cell_type": "code",
   "execution_count": 41,
   "id": "a77426b6-ccd9-45b5-ad48-f668f593ccce",
   "metadata": {},
   "outputs": [],
   "source": [
    "def create_dataset(data, time_step=10):\n",
    "    \"\"\"\n",
    "    Converts a 1D or 2D NumPy array into LSTM-friendly sequences.\n",
    "\n",
    "    Parameters:\n",
    "        data (np.array): Normalized time series data, shape (n, 1)\n",
    "        time_step (int): Number of past time steps to use as input\n",
    "\n",
    "    Returns:\n",
    "        X (np.array): Input sequences, shape (samples, time_step)\n",
    "        y (np.array): Target values, shape (samples,)\n",
    "    \"\"\"\n",
    "    X, y = [], []\n",
    "    for i in range(time_step, len(data)):\n",
    "        X.append(data[i - time_step:i, 0])\n",
    "        y.append(data[i, 0])\n",
    "    return np.array(X), np.array(y)\n"
   ]
  },
  {
   "cell_type": "markdown",
   "id": "eed3c9f8-2f86-4109-85c5-623990320345",
   "metadata": {},
   "source": [
    "# # Reshape input to be [samples, time steps, features]"
   ]
  },
  {
   "cell_type": "code",
   "execution_count": 48,
   "id": "94438de6-d65e-4106-ba1d-3d13711a2257",
   "metadata": {},
   "outputs": [],
   "source": [
    "X = X.reshape(X.shape[0], X.shape[1], 1)"
   ]
  },
  {
   "cell_type": "markdown",
   "id": "8c37610d-4b80-4894-a35d-be8c4822adc9",
   "metadata": {},
   "source": [
    "#  Split into training and testing data"
   ]
  },
  {
   "cell_type": "code",
   "execution_count": 49,
   "id": "29faa5ec-1212-4e32-ad81-072707df515c",
   "metadata": {},
   "outputs": [],
   "source": [
    "train_size = int(len(X) * 0.8)\n",
    "X_train, X_test = X[:train_size], X[train_size:]\n",
    "y_train, y_test = y[:train_size], y[train_size:]\n"
   ]
  },
  {
   "cell_type": "markdown",
   "id": "37bb86fa-7698-474f-901b-6d293c39d1d1",
   "metadata": {},
   "source": [
    "#  Build LSTM model"
   ]
  },
  {
   "cell_type": "code",
   "execution_count": 50,
   "id": "930b6ba1-6ff3-474c-9e30-499aae4c5b50",
   "metadata": {},
   "outputs": [
    {
     "name": "stderr",
     "output_type": "stream",
     "text": [
      "C:\\Users\\Sandipan Jana\\AppData\\Roaming\\Python\\Python312\\site-packages\\keras\\src\\layers\\rnn\\rnn.py:200: UserWarning: Do not pass an `input_shape`/`input_dim` argument to a layer. When using Sequential models, prefer using an `Input(shape)` object as the first layer in the model instead.\n",
      "  super().__init__(**kwargs)\n"
     ]
    }
   ],
   "source": [
    "model = Sequential()\n",
    "model.add(LSTM(50, return_sequences=True, input_shape=(time_step, 1)))\n",
    "model.add(LSTM(50))\n",
    "model.add(Dense(1))\n",
    "model.compile(loss='mean_squared_error', optimizer='adam')"
   ]
  },
  {
   "cell_type": "markdown",
   "id": "c0d57687-a0b8-4568-acee-34180e65c4da",
   "metadata": {},
   "source": [
    "# Train the model"
   ]
  },
  {
   "cell_type": "code",
   "execution_count": 45,
   "id": "1481522f-46d2-47df-be47-7c4a73f96eb2",
   "metadata": {},
   "outputs": [
    {
     "name": "stdout",
     "output_type": "stream",
     "text": [
      "Epoch 1/20\n",
      "\u001b[1m1/1\u001b[0m \u001b[32m━━━━━━━━━━━━━━━━━━━━\u001b[0m\u001b[37m\u001b[0m \u001b[1m3s\u001b[0m 3s/step - loss: 0.4195 - val_loss: 0.1517\n",
      "Epoch 2/20\n",
      "\u001b[1m1/1\u001b[0m \u001b[32m━━━━━━━━━━━━━━━━━━━━\u001b[0m\u001b[37m\u001b[0m \u001b[1m0s\u001b[0m 98ms/step - loss: 0.4070 - val_loss: 0.1438\n",
      "Epoch 3/20\n",
      "\u001b[1m1/1\u001b[0m \u001b[32m━━━━━━━━━━━━━━━━━━━━\u001b[0m\u001b[37m\u001b[0m \u001b[1m0s\u001b[0m 193ms/step - loss: 0.3951 - val_loss: 0.1360\n",
      "Epoch 4/20\n",
      "\u001b[1m1/1\u001b[0m \u001b[32m━━━━━━━━━━━━━━━━━━━━\u001b[0m\u001b[37m\u001b[0m \u001b[1m0s\u001b[0m 161ms/step - loss: 0.3835 - val_loss: 0.1285\n",
      "Epoch 5/20\n",
      "\u001b[1m1/1\u001b[0m \u001b[32m━━━━━━━━━━━━━━━━━━━━\u001b[0m\u001b[37m\u001b[0m \u001b[1m0s\u001b[0m 97ms/step - loss: 0.3722 - val_loss: 0.1212\n",
      "Epoch 6/20\n",
      "\u001b[1m1/1\u001b[0m \u001b[32m━━━━━━━━━━━━━━━━━━━━\u001b[0m\u001b[37m\u001b[0m \u001b[1m0s\u001b[0m 99ms/step - loss: 0.3612 - val_loss: 0.1140\n",
      "Epoch 7/20\n",
      "\u001b[1m1/1\u001b[0m \u001b[32m━━━━━━━━━━━━━━━━━━━━\u001b[0m\u001b[37m\u001b[0m \u001b[1m0s\u001b[0m 98ms/step - loss: 0.3505 - val_loss: 0.1069\n",
      "Epoch 8/20\n",
      "\u001b[1m1/1\u001b[0m \u001b[32m━━━━━━━━━━━━━━━━━━━━\u001b[0m\u001b[37m\u001b[0m \u001b[1m0s\u001b[0m 96ms/step - loss: 0.3400 - val_loss: 0.0999\n",
      "Epoch 9/20\n",
      "\u001b[1m1/1\u001b[0m \u001b[32m━━━━━━━━━━━━━━━━━━━━\u001b[0m\u001b[37m\u001b[0m \u001b[1m0s\u001b[0m 93ms/step - loss: 0.3297 - val_loss: 0.0931\n",
      "Epoch 10/20\n",
      "\u001b[1m1/1\u001b[0m \u001b[32m━━━━━━━━━━━━━━━━━━━━\u001b[0m\u001b[37m\u001b[0m \u001b[1m0s\u001b[0m 92ms/step - loss: 0.3195 - val_loss: 0.0863\n",
      "Epoch 11/20\n",
      "\u001b[1m1/1\u001b[0m \u001b[32m━━━━━━━━━━━━━━━━━━━━\u001b[0m\u001b[37m\u001b[0m \u001b[1m0s\u001b[0m 99ms/step - loss: 0.3096 - val_loss: 0.0796\n",
      "Epoch 12/20\n",
      "\u001b[1m1/1\u001b[0m \u001b[32m━━━━━━━━━━━━━━━━━━━━\u001b[0m\u001b[37m\u001b[0m \u001b[1m0s\u001b[0m 97ms/step - loss: 0.2997 - val_loss: 0.0730\n",
      "Epoch 13/20\n",
      "\u001b[1m1/1\u001b[0m \u001b[32m━━━━━━━━━━━━━━━━━━━━\u001b[0m\u001b[37m\u001b[0m \u001b[1m0s\u001b[0m 92ms/step - loss: 0.2901 - val_loss: 0.0665\n",
      "Epoch 14/20\n",
      "\u001b[1m1/1\u001b[0m \u001b[32m━━━━━━━━━━━━━━━━━━━━\u001b[0m\u001b[37m\u001b[0m \u001b[1m0s\u001b[0m 95ms/step - loss: 0.2806 - val_loss: 0.0600\n",
      "Epoch 15/20\n",
      "\u001b[1m1/1\u001b[0m \u001b[32m━━━━━━━━━━━━━━━━━━━━\u001b[0m\u001b[37m\u001b[0m \u001b[1m0s\u001b[0m 92ms/step - loss: 0.2712 - val_loss: 0.0537\n",
      "Epoch 16/20\n",
      "\u001b[1m1/1\u001b[0m \u001b[32m━━━━━━━━━━━━━━━━━━━━\u001b[0m\u001b[37m\u001b[0m \u001b[1m0s\u001b[0m 219ms/step - loss: 0.2621 - val_loss: 0.0475\n",
      "Epoch 17/20\n",
      "\u001b[1m1/1\u001b[0m \u001b[32m━━━━━━━━━━━━━━━━━━━━\u001b[0m\u001b[37m\u001b[0m \u001b[1m0s\u001b[0m 101ms/step - loss: 0.2532 - val_loss: 0.0415\n",
      "Epoch 18/20\n",
      "\u001b[1m1/1\u001b[0m \u001b[32m━━━━━━━━━━━━━━━━━━━━\u001b[0m\u001b[37m\u001b[0m \u001b[1m0s\u001b[0m 93ms/step - loss: 0.2445 - val_loss: 0.0357\n",
      "Epoch 19/20\n",
      "\u001b[1m1/1\u001b[0m \u001b[32m━━━━━━━━━━━━━━━━━━━━\u001b[0m\u001b[37m\u001b[0m \u001b[1m0s\u001b[0m 95ms/step - loss: 0.2362 - val_loss: 0.0301\n",
      "Epoch 20/20\n",
      "\u001b[1m1/1\u001b[0m \u001b[32m━━━━━━━━━━━━━━━━━━━━\u001b[0m\u001b[37m\u001b[0m \u001b[1m0s\u001b[0m 95ms/step - loss: 0.2283 - val_loss: 0.0248\n"
     ]
    },
    {
     "data": {
      "text/plain": [
       "<keras.src.callbacks.history.History at 0x28d7addf800>"
      ]
     },
     "execution_count": 45,
     "metadata": {},
     "output_type": "execute_result"
    }
   ],
   "source": [
    "# Reshape targets\n",
    "y_train = y_train.reshape(-1)\n",
    "y_test = y_test.reshape(-1)\n",
    "\n",
    "# Fit with smaller batch size\n",
    "model.fit(X_train, y_train, validation_data=(X_test, y_test), epochs=20, batch_size=2, verbose=1)\n"
   ]
  },
  {
   "cell_type": "markdown",
   "id": "f5981763-96a1-457b-9cab-0d8e201e590f",
   "metadata": {},
   "source": [
    "#  Predict and inverse transform"
   ]
  },
  {
   "cell_type": "code",
   "execution_count": 46,
   "id": "35dab809-ad34-4d10-b787-c8fe7389eb11",
   "metadata": {},
   "outputs": [
    {
     "name": "stdout",
     "output_type": "stream",
     "text": [
      "\u001b[1m1/1\u001b[0m \u001b[32m━━━━━━━━━━━━━━━━━━━━\u001b[0m\u001b[37m\u001b[0m \u001b[1m0s\u001b[0m 305ms/step\n",
      "\u001b[1m1/1\u001b[0m \u001b[32m━━━━━━━━━━━━━━━━━━━━\u001b[0m\u001b[37m\u001b[0m \u001b[1m0s\u001b[0m 311ms/step\n"
     ]
    }
   ],
   "source": [
    "train_predict = model.predict(X_train)\n",
    "test_predict = model.predict(X_test)\n"
   ]
  },
  {
   "cell_type": "code",
   "execution_count": 39,
   "id": "1f52d09f-c55b-46ff-8829-241cfffe82b7",
   "metadata": {},
   "outputs": [
    {
     "name": "stdout",
     "output_type": "stream",
     "text": [
      "<class 'numpy.ndarray'>\n",
      "(5, 1)\n"
     ]
    }
   ],
   "source": []
  },
  {
   "cell_type": "markdown",
   "id": "e46fdf20-05d2-493d-a2fb-cb10fc0b5147",
   "metadata": {},
   "source": [
    "# Convert predictions back to original scale"
   ]
  },
  {
   "cell_type": "code",
   "execution_count": 51,
   "id": "083e678c-e5f4-46f8-b40b-4c70efcff1b5",
   "metadata": {},
   "outputs": [],
   "source": [
    "train_predict = scaler.inverse_transform(train_predict)\n",
    "test_predict = scaler.inverse_transform(test_predict)\n",
    "actual_y_test = scaler.inverse_transform(y_test.reshape(-1, 1))"
   ]
  },
  {
   "cell_type": "markdown",
   "id": "4556fa99-93aa-4625-896d-7a57be55545f",
   "metadata": {},
   "source": [
    "#  Plot actual vs predicted"
   ]
  },
  {
   "cell_type": "code",
   "execution_count": 52,
   "id": "61f9465e-7a0e-44cc-8c85-3d44337f5634",
   "metadata": {},
   "outputs": [
    {
     "data": {
      "text/plain": [
       "[<matplotlib.lines.Line2D at 0x28d000af2c0>]"
      ]
     },
     "execution_count": 52,
     "metadata": {},
     "output_type": "execute_result"
    },
    {
     "data": {
      "image/png": "[encoded data removed]",
      "text/plain": [
       "<Figure size 1200x600 with 1 Axes>"
      ]
     },
     "metadata": {},
     "output_type": "display_data"
    }
   ],
   "source": [
    "plt.figure(figsize=(12, 6))\n",
    "plt.plot(range(len(scaled_data)), scaler.inverse_transform(scaled_data), label='Actual Prices')\n"
   ]
  },
  {
   "cell_type": "markdown",
   "id": "87adddf1-4cf3-4613-9322-9a8c1cba5e8a",
   "metadata": {},
   "source": [
    "# Plot training and testing predictions"
   ]
  },
  {
   "cell_type": "code",
   "execution_count": null,
   "id": "34785386-2b30-4bb5-a560-9225a1a65b4e",
   "metadata": {},
   "outputs": [],
   "source": []
  }
 ],
 "metadata": {
  "kernelspec": {
   "display_name": "Python [conda env:jupyter2] *",
   "language": "python",
   "name": "conda-env-jupyter2-py"
  },
  "language_info": {
   "codemirror_mode": {
    "name": "ipython",
    "version": 3
   },
   "file_extension": ".py",
   "mimetype": "text/x-python",
   "name": "python",
   "nbconvert_exporter": "python",
   "pygments_lexer": "ipython3",
   "version": "3.12.7"
  }
 },
 "nbformat": 4,
 "nbformat_minor": 5
}
